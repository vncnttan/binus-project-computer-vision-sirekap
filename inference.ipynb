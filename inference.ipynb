{
 "cells": [
  {
   "cell_type": "code",
   "execution_count": 12,
   "metadata": {},
   "outputs": [],
   "source": [
    "import cv2\n",
    "from keras.applications import ResNet50\n",
    "from keras.applications.resnet import preprocess_input as resnet_preprocess_input\n",
    "from keras.applications.vgg19 import preprocess_input as vgg19_preprocess_input\n",
    "from keras.layers import AveragePooling2D, Dense, Flatten, Dropout\n",
    "from keras.models import Model, load_model\n",
    "from keras.optimizers import Adam\n",
    "from sklearn.model_selection import train_test_split\n",
    "import keras\n",
    "import numpy as np \n",
    "import matplotlib.pyplot as plt \n",
    "import pandas as pd\n",
    "import argparse\n",
    "import os"
   ]
  },
  {
   "cell_type": "code",
   "execution_count": 13,
   "metadata": {},
   "outputs": [],
   "source": [
    "DIR_TEST = \"dataset-cropped/Test/\""
   ]
  },
  {
   "cell_type": "code",
   "execution_count": 29,
   "metadata": {},
   "outputs": [],
   "source": [
    "images = []\n",
    "labels = []\n",
    "\n",
    "df = pd.read_csv(\"dataset-cropped/manual_ans.csv\")\n",
    "\n",
    "for tps in os.listdir(DIR_TEST):\n",
    "    for paslon in os.listdir(os.path.join(DIR_TEST, tps)):\n",
    "        for section in os.listdir(os.path.join(DIR_TEST, tps, paslon)):\n",
    "            path = os.path.join(DIR_TEST, tps, paslon, section)\n",
    "\n",
    "            img = cv2.imread(path, cv2.IMREAD_GRAYSCALE)\n",
    "            img = cv2.resize(img, (40, 240))\n",
    "            img = cv2.GaussianBlur(img, (5, 5), 0)\n",
    "            # imt = cv2.medianBlur(img, 5)\n",
    "\n",
    "            th = cv2.adaptiveThreshold(img, 255, cv2.ADAPTIVE_THRESH_GAUSSIAN_C, cv2.THRESH_BINARY, 19, 2)\n",
    "            # cv2.floodFill(th, None, (0, 0), 123, )\n",
    "            \n",
    "            th = th / 255.0\n",
    "            images.append(th)\n",
    "    \n",
    "    curr_tps = df[df['TPS'] == tps]\n",
    "    for col in (['Paslon_1', 'Paslon_2', 'Paslon_3']):\n",
    "        label_str = '{:03d}'.format(curr_tps[col].values[0])\n",
    "        labels.extend([int(n) for n in label_str])"
   ]
  },
  {
   "cell_type": "code",
   "execution_count": 32,
   "metadata": {},
   "outputs": [],
   "source": [
    "def evaluation(model_name, images, labels):\n",
    "    model = load_model(f'models/{model_name}')\n",
    "    tmp_images = np.array(images)\n",
    "    tmp_labels = np.array(labels)\n",
    "\n",
    "    tmp_images = np.repeat(tmp_images[..., np.newaxis], 3, -1)\n",
    "    if model_name == 'ResNet50PreprocessInput' :\n",
    "        tmp_images = resnet_preprocess_input(tmp_images)\n",
    "    elif model_name == 'VGG19' :\n",
    "        tmp_images = vgg19_preprocess_input(tmp_images)\n",
    "\n",
    "    tmp_labels = keras.utils.to_categorical(tmp_labels, num_classes=10)\n",
    "\n",
    "    loss, acc = model.evaluate(tmp_images, tmp_labels)\n",
    "    print(f'Loss: {loss}')\n",
    "    print(f'Accuracy: {acc}')\n"
   ]
  },
  {
   "cell_type": "markdown",
   "metadata": {},
   "source": [
    "RESNET50"
   ]
  },
  {
   "cell_type": "code",
   "execution_count": 35,
   "metadata": {},
   "outputs": [
    {
     "name": "stdout",
     "output_type": "stream",
     "text": [
      "51/51 [==============================] - 3s 28ms/step - loss: 0.0643 - accuracy: 0.9858\n",
      "Loss: 0.06432805210351944\n",
      "Accuracy: 0.9858024716377258\n"
     ]
    }
   ],
   "source": [
    "evaluation('ResNet50PreprocessInput', images, labels)"
   ]
  },
  {
   "cell_type": "code",
   "execution_count": 36,
   "metadata": {},
   "outputs": [
    {
     "name": "stdout",
     "output_type": "stream",
     "text": [
      "51/51 [==============================] - 2s 27ms/step - loss: 0.0717 - accuracy: 0.9858\n",
      "Loss: 0.07172521203756332\n",
      "Accuracy: 0.9858024716377258\n"
     ]
    }
   ],
   "source": [
    "evaluation('ResNet50', images, labels)"
   ]
  },
  {
   "cell_type": "markdown",
   "metadata": {},
   "source": [
    "VGG19"
   ]
  },
  {
   "cell_type": "code",
   "execution_count": 24,
   "metadata": {},
   "outputs": [
    {
     "name": "stdout",
     "output_type": "stream",
     "text": [
      "51/51 [==============================] - 2s 33ms/step - loss: 0.1769 - accuracy: 0.9710\n",
      "Loss: 0.17688040435314178\n",
      "Accuracy: 0.9709876775741577\n"
     ]
    }
   ],
   "source": [
    "evaluation('VGG19', images, labels)"
   ]
  }
 ],
 "metadata": {
  "kernelspec": {
   "display_name": "deep_learning",
   "language": "python",
   "name": "python3"
  },
  "language_info": {
   "codemirror_mode": {
    "name": "ipython",
    "version": 3
   },
   "file_extension": ".py",
   "mimetype": "text/x-python",
   "name": "python",
   "nbconvert_exporter": "python",
   "pygments_lexer": "ipython3",
   "version": "3.10.9"
  }
 },
 "nbformat": 4,
 "nbformat_minor": 2
}
