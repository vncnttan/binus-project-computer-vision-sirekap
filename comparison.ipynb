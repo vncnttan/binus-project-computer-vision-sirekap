{
 "cells": [
  {
   "cell_type": "code",
   "execution_count": 2,
   "metadata": {},
   "outputs": [],
   "source": [
    "import cv2\n",
    "from keras.applications.resnet import preprocess_input as resnet_preprocess_input\n",
    "from keras.applications.vgg19 import preprocess_input as vgg19_preprocess_input\n",
    "from keras.models import load_model\n",
    "import keras\n",
    "import numpy as np \n",
    "import pickle\n",
    "import matplotlib.pyplot as plt \n",
    "import pandas as pd\n",
    "import os\n",
    "from sklearn.metrics import classification_report, accuracy_score, log_loss"
   ]
  },
  {
   "cell_type": "code",
   "execution_count": 3,
   "metadata": {},
   "outputs": [],
   "source": [
    "DIR_TEST = \"dataset-cropped/Test/\""
   ]
  },
  {
   "cell_type": "code",
   "execution_count": 4,
   "metadata": {},
   "outputs": [],
   "source": [
    "images = []\n",
    "labels = []\n",
    "\n",
    "df = pd.read_csv(\"dataset-cropped/manual_ans.csv\")\n",
    "\n",
    "for tps in os.listdir(DIR_TEST):\n",
    "    for paslon in os.listdir(os.path.join(DIR_TEST, tps)):\n",
    "        for section in os.listdir(os.path.join(DIR_TEST, tps, paslon)):\n",
    "            path = os.path.join(DIR_TEST, tps, paslon, section)\n",
    "\n",
    "            img = cv2.imread(path, cv2.IMREAD_GRAYSCALE)\n",
    "            img = cv2.resize(img, (40, 240))\n",
    "            img = cv2.GaussianBlur(img, (5, 5), 0)\n",
    "            # imt = cv2.medianBlur(img, 5)\n",
    "\n",
    "            th = cv2.adaptiveThreshold(img, 255, cv2.ADAPTIVE_THRESH_GAUSSIAN_C, cv2.THRESH_BINARY, 19, 2)\n",
    "            # cv2.floodFill(th, None, (0, 0), 123, )\n",
    "            \n",
    "            th = th / 255.0\n",
    "            images.append(th)\n",
    "    \n",
    "    curr_tps = df[df['TPS'] == tps]\n",
    "    for col in (['Paslon_1', 'Paslon_2', 'Paslon_3']):\n",
    "        label_str = '{:03d}'.format(curr_tps[col].values[0])\n",
    "        labels.extend([int(n) for n in label_str])"
   ]
  },
  {
   "cell_type": "code",
   "execution_count": 5,
   "metadata": {},
   "outputs": [],
   "source": [
    "def evaluation(model_file, images, labels, traditional=False):\n",
    "    if traditional:\n",
    "        with open(f'models/{model_file}', 'rb') as file:\n",
    "            model = pickle.load(file)\n",
    "    else:\n",
    "        model = load_model(f'models/{model_file}')\n",
    "\n",
    "    tmp_images = np.array(images)\n",
    "    tmp_labels = np.array(labels)\n",
    "\n",
    "    if traditional:\n",
    "        tmp_images = tmp_images.reshape(tmp_images.shape[0], -1)\n",
    "    else:\n",
    "        tmp_images = np.repeat(tmp_images[..., np.newaxis], 3, -1)\n",
    "        if model_file == 'ResNet50PreprocessInput':\n",
    "            tmp_images = resnet_preprocess_input(tmp_images)\n",
    "        elif model_file == 'VGG19':\n",
    "            tmp_images = vgg19_preprocess_input(tmp_images)\n",
    "        \n",
    "    tmp_labels = keras.utils.to_categorical(tmp_labels, num_classes=10)\n",
    "\n",
    "    if traditional:\n",
    "        y_pred = model.predict(tmp_images)\n",
    "        y_prob = model.predict_proba(tmp_images)\n",
    "        y_true = np.argmax(tmp_labels, axis=1)\n",
    "\n",
    "        loss = log_loss(tmp_labels, y_prob)\n",
    "        acc = accuracy_score(y_true, y_pred)\n",
    "        print(f'Loss: {loss}')\n",
    "        print(f'Accuracy: {acc}')\n",
    "    else:\n",
    "        loss, acc = model.evaluate(tmp_images, tmp_labels)\n",
    "        print(f'Loss: {loss}')\n",
    "        print(f'Accuracy: {acc}')\n",
    "        y_pred = model.predict(tmp_images)\n",
    "        y_pred = np.argmax(y_pred, axis=1)\n",
    "        y_true = np.argmax(tmp_labels, axis=1)\n",
    "\n",
    "    print(classification_report(y_true, y_pred))"
   ]
  },
  {
   "cell_type": "markdown",
   "metadata": {},
   "source": [
    "RESNET50"
   ]
  },
  {
   "cell_type": "code",
   "execution_count": 6,
   "metadata": {},
   "outputs": [
    {
     "name": "stdout",
     "output_type": "stream",
     "text": [
      "51/51 [==============================] - 4s 24ms/step - loss: 0.0643 - accuracy: 0.9858\n",
      "Loss: 0.06432803720235825\n",
      "Accuracy: 0.9858024716377258\n",
      "51/51 [==============================] - 2s 20ms/step\n",
      "              precision    recall  f1-score   support\n",
      "\n",
      "           0       0.98      1.00      0.99       528\n",
      "           1       1.00      0.99      0.99       289\n",
      "           2       0.99      1.00      1.00       133\n",
      "           3       1.00      0.98      0.99       120\n",
      "           4       1.00      1.00      1.00       107\n",
      "           5       0.99      0.97      0.98        96\n",
      "           6       0.97      0.97      0.97        90\n",
      "           7       0.98      0.98      0.98        97\n",
      "           8       0.98      0.94      0.96        84\n",
      "           9       0.99      0.96      0.97        76\n",
      "\n",
      "    accuracy                           0.99      1620\n",
      "   macro avg       0.99      0.98      0.98      1620\n",
      "weighted avg       0.99      0.99      0.99      1620\n",
      "\n"
     ]
    }
   ],
   "source": [
    "evaluation('ResNet50PreprocessInput', images, labels)"
   ]
  },
  {
   "cell_type": "code",
   "execution_count": 7,
   "metadata": {},
   "outputs": [
    {
     "name": "stdout",
     "output_type": "stream",
     "text": [
      "51/51 [==============================] - 2s 25ms/step - loss: 0.0717 - accuracy: 0.9858\n",
      "Loss: 0.0717252865433693\n",
      "Accuracy: 0.9858024716377258\n",
      "51/51 [==============================] - 2s 20ms/step\n",
      "              precision    recall  f1-score   support\n",
      "\n",
      "           0       0.99      0.99      0.99       528\n",
      "           1       0.98      1.00      0.99       289\n",
      "           2       0.98      0.99      0.99       133\n",
      "           3       1.00      0.96      0.98       120\n",
      "           4       0.99      0.98      0.99       107\n",
      "           5       0.98      0.98      0.98        96\n",
      "           6       0.98      0.99      0.98        90\n",
      "           7       1.00      1.00      1.00        97\n",
      "           8       0.98      0.96      0.97        84\n",
      "           9       0.97      0.97      0.97        76\n",
      "\n",
      "    accuracy                           0.99      1620\n",
      "   macro avg       0.98      0.98      0.98      1620\n",
      "weighted avg       0.99      0.99      0.99      1620\n",
      "\n"
     ]
    }
   ],
   "source": [
    "evaluation('ResNet50', images, labels)"
   ]
  },
  {
   "cell_type": "markdown",
   "metadata": {},
   "source": [
    "VGG19"
   ]
  },
  {
   "cell_type": "code",
   "execution_count": 8,
   "metadata": {},
   "outputs": [
    {
     "name": "stdout",
     "output_type": "stream",
     "text": [
      "51/51 [==============================] - 4s 50ms/step - loss: 0.1767 - accuracy: 0.9698\n",
      "Loss: 0.1767251342535019\n",
      "Accuracy: 0.969753086566925\n",
      "51/51 [==============================] - 2s 33ms/step\n",
      "              precision    recall  f1-score   support\n",
      "\n",
      "           0       0.96      0.99      0.97       528\n",
      "           1       0.99      0.98      0.98       289\n",
      "           2       1.00      0.98      0.99       133\n",
      "           3       0.98      0.97      0.97       120\n",
      "           4       0.98      0.97      0.98       107\n",
      "           5       0.94      0.95      0.94        96\n",
      "           6       0.98      0.96      0.97        90\n",
      "           7       0.98      0.95      0.96        97\n",
      "           8       0.93      0.93      0.93        84\n",
      "           9       0.99      0.88      0.93        76\n",
      "\n",
      "    accuracy                           0.97      1620\n",
      "   macro avg       0.97      0.96      0.96      1620\n",
      "weighted avg       0.97      0.97      0.97      1620\n",
      "\n"
     ]
    }
   ],
   "source": [
    "evaluation('VGG19', images, labels)"
   ]
  },
  {
   "cell_type": "markdown",
   "metadata": {},
   "source": [
    "RANDOM FOREST CLASSIFIER"
   ]
  },
  {
   "cell_type": "code",
   "execution_count": 9,
   "metadata": {},
   "outputs": [
    {
     "name": "stdout",
     "output_type": "stream",
     "text": [
      "Loss: 0.22675441273368813\n",
      "Accuracy: 0.9882716049382716\n",
      "              precision    recall  f1-score   support\n",
      "\n",
      "           0       0.99      1.00      0.99       528\n",
      "           1       1.00      1.00      1.00       289\n",
      "           2       0.99      1.00      0.99       133\n",
      "           3       1.00      0.99      1.00       120\n",
      "           4       0.99      0.99      0.99       107\n",
      "           5       0.98      0.98      0.98        96\n",
      "           6       0.96      1.00      0.98        90\n",
      "           7       0.99      0.98      0.98        97\n",
      "           8       0.99      0.96      0.98        84\n",
      "           9       0.99      0.91      0.95        76\n",
      "\n",
      "    accuracy                           0.99      1620\n",
      "   macro avg       0.99      0.98      0.98      1620\n",
      "weighted avg       0.99      0.99      0.99      1620\n",
      "\n"
     ]
    }
   ],
   "source": [
    "evaluation('RandomForest.pkl', images, labels, traditional=True)"
   ]
  },
  {
   "cell_type": "markdown",
   "metadata": {},
   "source": [
    "SVM"
   ]
  },
  {
   "cell_type": "code",
   "execution_count": 10,
   "metadata": {},
   "outputs": [
    {
     "name": "stdout",
     "output_type": "stream",
     "text": [
      "Loss: 0.050471439057845985\n",
      "Accuracy: 0.9925925925925926\n",
      "              precision    recall  f1-score   support\n",
      "\n",
      "           0       0.99      1.00      0.99       528\n",
      "           1       1.00      1.00      1.00       289\n",
      "           2       1.00      1.00      1.00       133\n",
      "           3       1.00      0.99      1.00       120\n",
      "           4       1.00      1.00      1.00       107\n",
      "           5       1.00      0.98      0.99        96\n",
      "           6       0.98      1.00      0.99        90\n",
      "           7       1.00      0.99      0.99        97\n",
      "           8       0.99      0.96      0.98        84\n",
      "           9       0.99      0.96      0.97        76\n",
      "\n",
      "    accuracy                           0.99      1620\n",
      "   macro avg       0.99      0.99      0.99      1620\n",
      "weighted avg       0.99      0.99      0.99      1620\n",
      "\n"
     ]
    }
   ],
   "source": [
    "evaluation('SVM.pkl', images, labels, traditional=True)"
   ]
  }
 ],
 "metadata": {
  "kernelspec": {
   "display_name": "deep_learning",
   "language": "python",
   "name": "python3"
  },
  "language_info": {
   "codemirror_mode": {
    "name": "ipython",
    "version": 3
   },
   "file_extension": ".py",
   "mimetype": "text/x-python",
   "name": "python",
   "nbconvert_exporter": "python",
   "pygments_lexer": "ipython3",
   "version": "3.10.9"
  }
 },
 "nbformat": 4,
 "nbformat_minor": 2
}
